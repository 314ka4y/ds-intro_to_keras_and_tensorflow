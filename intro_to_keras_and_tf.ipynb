{
 "cells": [
  {
   "cell_type": "markdown",
   "metadata": {
    "toc": true
   },
   "source": [
    "<h1>Table of Contents<span class=\"tocSkip\"></span></h1>\n",
    "<div class=\"toc\"><ul class=\"toc-item\"><li><span><a href=\"#Introduction-to-keras-and-tensorflow\" data-toc-modified-id=\"Introduction-to-keras-and-tensorflow-1\"><span class=\"toc-item-num\">1&nbsp;&nbsp;</span>Introduction to <code>keras</code> and <code>tensorflow</code></a></span></li><li><span><a href=\"#Objectives\" data-toc-modified-id=\"Objectives-2\"><span class=\"toc-item-num\">2&nbsp;&nbsp;</span>Objectives</a></span></li><li><span><a href=\"#How-Traning-Neural-Networks-Work\" data-toc-modified-id=\"How-Traning-Neural-Networks-Work-3\"><span class=\"toc-item-num\">3&nbsp;&nbsp;</span>How Traning Neural Networks Work</a></span><ul class=\"toc-item\"><li><span><a href=\"#Forward-Propagation\" data-toc-modified-id=\"Forward-Propagation-3.1\"><span class=\"toc-item-num\">3.1&nbsp;&nbsp;</span>Forward Propagation</a></span><ul class=\"toc-item\"><li><span><a href=\"#Forward-Propagation-Implemented-from-Scratch\" data-toc-modified-id=\"Forward-Propagation-Implemented-from-Scratch-3.1.1\"><span class=\"toc-item-num\">3.1.1&nbsp;&nbsp;</span>Forward Propagation Implemented from Scratch</a></span></li></ul></li><li><span><a href=\"#Backpropagation-(Backprop)\" data-toc-modified-id=\"Backpropagation-(Backprop)-3.2\"><span class=\"toc-item-num\">3.2&nbsp;&nbsp;</span>Backpropagation (Backprop)</a></span><ul class=\"toc-item\"><li><span><a href=\"#Function-Approximation\" data-toc-modified-id=\"Function-Approximation-3.2.1\"><span class=\"toc-item-num\">3.2.1&nbsp;&nbsp;</span>Function Approximation</a></span></li><li><span><a href=\"#Loss-Function\" data-toc-modified-id=\"Loss-Function-3.2.2\"><span class=\"toc-item-num\">3.2.2&nbsp;&nbsp;</span>Loss Function</a></span></li></ul></li><li><span><a href=\"#Adjusting-Weights-with-Gradient-Descent\" data-toc-modified-id=\"Adjusting-Weights-with-Gradient-Descent-3.3\"><span class=\"toc-item-num\">3.3&nbsp;&nbsp;</span>Adjusting Weights with Gradient Descent</a></span></li></ul></li><li><span><a href=\"#Tensorflow-and-Keras\" data-toc-modified-id=\"Tensorflow-and-Keras-4\"><span class=\"toc-item-num\">4&nbsp;&nbsp;</span>Tensorflow and Keras</a></span><ul class=\"toc-item\"><li><span><a href=\"#Keras-is-an-API\" data-toc-modified-id=\"Keras-is-an-API-4.1\"><span class=\"toc-item-num\">4.1&nbsp;&nbsp;</span>Keras is an API</a></span></li><li><span><a href=\"#Creating-and-Using-a-Neural-Network\" data-toc-modified-id=\"Creating-and-Using-a-Neural-Network-4.2\"><span class=\"toc-item-num\">4.2&nbsp;&nbsp;</span>Creating and Using a Neural Network</a></span><ul class=\"toc-item\"><li><span><a href=\"#Initialize-a-Linear-Stack-of-Layers\" data-toc-modified-id=\"Initialize-a-Linear-Stack-of-Layers-4.2.1\"><span class=\"toc-item-num\">4.2.1&nbsp;&nbsp;</span>Initialize a Linear Stack of Layers</a></span></li><li><span><a href=\"#Add-Densely-Connected-Layers\" data-toc-modified-id=\"Add-Densely-Connected-Layers-4.2.2\"><span class=\"toc-item-num\">4.2.2&nbsp;&nbsp;</span>Add Densely Connected Layers</a></span></li><li><span><a href=\"#Compile-the-Model\" data-toc-modified-id=\"Compile-the-Model-4.2.3\"><span class=\"toc-item-num\">4.2.3&nbsp;&nbsp;</span>Compile the Model</a></span></li><li><span><a href=\"#Investigate-the-Model\" data-toc-modified-id=\"Investigate-the-Model-4.2.4\"><span class=\"toc-item-num\">4.2.4&nbsp;&nbsp;</span>Investigate the Model</a></span></li><li><span><a href=\"#Fit-the-Model\" data-toc-modified-id=\"Fit-the-Model-4.2.5\"><span class=\"toc-item-num\">4.2.5&nbsp;&nbsp;</span>Fit the Model</a></span></li><li><span><a href=\"#Evaluating-the-Trained-Model\" data-toc-modified-id=\"Evaluating-the-Trained-Model-4.2.6\"><span class=\"toc-item-num\">4.2.6&nbsp;&nbsp;</span>Evaluating the Trained Model</a></span></li></ul></li><li><span><a href=\"#Saving-for-Later\" data-toc-modified-id=\"Saving-for-Later-4.3\"><span class=\"toc-item-num\">4.3&nbsp;&nbsp;</span>Saving for Later</a></span></li><li><span><a href=\"#Appendix:-More-on-Tensorflow-Vs.-Keras\" data-toc-modified-id=\"Appendix:-More-on-Tensorflow-Vs.-Keras-4.4\"><span class=\"toc-item-num\">4.4&nbsp;&nbsp;</span>Appendix: More on Tensorflow Vs. Keras</a></span><ul class=\"toc-item\"><li><span><a href=\"#Let's-start-with-tensors\" data-toc-modified-id=\"Let's-start-with-tensors-4.4.1\"><span class=\"toc-item-num\">4.4.1&nbsp;&nbsp;</span>Let's start with tensors</a></span></li><li><span><a href=\"#TensorFlow-manages-the-flow-of-matrix-math\" data-toc-modified-id=\"TensorFlow-manages-the-flow-of-matrix-math-4.4.2\"><span class=\"toc-item-num\">4.4.2&nbsp;&nbsp;</span>TensorFlow manages the flow of matrix math</a></span></li></ul></li><li><span><a href=\"#TensorFlow-has-more-levers-and-buttons,-but-Keras-is-more-user-friendly\" data-toc-modified-id=\"TensorFlow-has-more-levers-and-buttons,-but-Keras-is-more-user-friendly-4.5\"><span class=\"toc-item-num\">4.5&nbsp;&nbsp;</span>TensorFlow has more levers and buttons, but Keras is more user-friendly</a></span><ul class=\"toc-item\"><li><span><a href=\"#Keras,-an-API-with-an-intentional-UX\" data-toc-modified-id=\"Keras,-an-API-with-an-intentional-UX-4.5.1\"><span class=\"toc-item-num\">4.5.1&nbsp;&nbsp;</span>Keras, an API with an intentional UX</a></span></li><li><span><a href=\"#A-few-comparisons\" data-toc-modified-id=\"A-few-comparisons-4.5.2\"><span class=\"toc-item-num\">4.5.2&nbsp;&nbsp;</span>A few comparisons</a></span></li></ul></li></ul></li><li><span><a href=\"#♫-Better,-Faster,-Stronger-♫\" data-toc-modified-id=\"♫-Better,-Faster,-Stronger-♫-5\"><span class=\"toc-item-num\">5&nbsp;&nbsp;</span>♫ Better, Faster, Stronger ♫</a></span><ul class=\"toc-item\"><li><span><a href=\"#Some-useful-resources-on-optimization\" data-toc-modified-id=\"Some-useful-resources-on-optimization-5.1\"><span class=\"toc-item-num\">5.1&nbsp;&nbsp;</span>Some useful resources on optimization</a></span></li><li><span><a href=\"#A-Need-for-Optimization:-Vanishing-Gradient-Problem\" data-toc-modified-id=\"A-Need-for-Optimization:-Vanishing-Gradient-Problem-5.2\"><span class=\"toc-item-num\">5.2&nbsp;&nbsp;</span>A Need for Optimization: Vanishing Gradient Problem</a></span></li><li><span><a href=\"#Getting-Stuck-in-Rut\" data-toc-modified-id=\"Getting-Stuck-in-Rut-5.3\"><span class=\"toc-item-num\">5.3&nbsp;&nbsp;</span>Getting Stuck in Rut</a></span><ul class=\"toc-item\"><li><span><a href=\"#Random-Starts\" data-toc-modified-id=\"Random-Starts-5.3.1\"><span class=\"toc-item-num\">5.3.1&nbsp;&nbsp;</span>Random Starts</a></span></li><li><span><a href=\"#Momentum\" data-toc-modified-id=\"Momentum-5.3.2\"><span class=\"toc-item-num\">5.3.2&nbsp;&nbsp;</span>Momentum</a></span><ul class=\"toc-item\"><li><span><a href=\"#Solution?--Give-it-some-speed-😎\" data-toc-modified-id=\"Solution?--Give-it-some-speed-😎-5.3.2.1\"><span class=\"toc-item-num\">5.3.2.1&nbsp;&nbsp;</span>Solution?  Give it some speed 😎</a></span></li><li><span><a href=\"#Nesterov-Momentum\" data-toc-modified-id=\"Nesterov-Momentum-5.3.2.2\"><span class=\"toc-item-num\">5.3.2.2&nbsp;&nbsp;</span>Nesterov Momentum</a></span></li></ul></li></ul></li><li><span><a href=\"#Batch-Gradient-Descent\" data-toc-modified-id=\"Batch-Gradient-Descent-5.4\"><span class=\"toc-item-num\">5.4&nbsp;&nbsp;</span>Batch Gradient Descent</a></span></li><li><span><a href=\"#Normalization-(Batch-Normalization)\" data-toc-modified-id=\"Normalization-(Batch-Normalization)-5.5\"><span class=\"toc-item-num\">5.5&nbsp;&nbsp;</span>Normalization (Batch Normalization)</a></span></li><li><span><a href=\"#Stochastic-Gradient-Descent\" data-toc-modified-id=\"Stochastic-Gradient-Descent-5.6\"><span class=\"toc-item-num\">5.6&nbsp;&nbsp;</span>Stochastic Gradient Descent</a></span><ul class=\"toc-item\"><li><span><a href=\"#Steps\" data-toc-modified-id=\"Steps-5.6.1\"><span class=\"toc-item-num\">5.6.1&nbsp;&nbsp;</span>Steps</a></span></li><li><span><a href=\"#Mini-Batch-Gradient-Descent\" data-toc-modified-id=\"Mini-Batch-Gradient-Descent-5.6.2\"><span class=\"toc-item-num\">5.6.2&nbsp;&nbsp;</span>Mini-Batch Gradient Descent</a></span></li></ul></li><li><span><a href=\"#Activation-Functions\" data-toc-modified-id=\"Activation-Functions-5.7\"><span class=\"toc-item-num\">5.7&nbsp;&nbsp;</span>Activation Functions</a></span><ul class=\"toc-item\"><li><span><a href=\"#Recall-What-an-Activation-Function-Does\" data-toc-modified-id=\"Recall-What-an-Activation-Function-Does-5.7.1\"><span class=\"toc-item-num\">5.7.1&nbsp;&nbsp;</span>Recall What an Activation Function Does</a></span></li><li><span><a href=\"#Using-the-Proper-Activation\" data-toc-modified-id=\"Using-the-Proper-Activation-5.7.2\"><span class=\"toc-item-num\">5.7.2&nbsp;&nbsp;</span>Using the Proper Activation</a></span></li></ul></li><li><span><a href=\"#Aside:-Optimizers\" data-toc-modified-id=\"Aside:-Optimizers-5.8\"><span class=\"toc-item-num\">5.8&nbsp;&nbsp;</span>Aside: Optimizers</a></span><ul class=\"toc-item\"><li><span><a href=\"#AdaGrad-&amp;-RMSProp\" data-toc-modified-id=\"AdaGrad-&amp;-RMSProp-5.8.1\"><span class=\"toc-item-num\">5.8.1&nbsp;&nbsp;</span>AdaGrad &amp; RMSProp</a></span></li><li><span><a href=\"#Adam-(Adaptive-Moment-Estimation)-Optimization-and-Other-Variants\" data-toc-modified-id=\"Adam-(Adaptive-Moment-Estimation)-Optimization-and-Other-Variants-5.8.2\"><span class=\"toc-item-num\">5.8.2&nbsp;&nbsp;</span>Adam (Adaptive Moment Estimation) Optimization and Other Variants</a></span></li></ul></li></ul></li></ul></div>"
   ]
  },
  {
   "cell_type": "markdown",
   "metadata": {},
   "source": [
    "# Introduction to `keras` and `tensorflow`"
   ]
  },
  {
   "cell_type": "code",
   "execution_count": 1,
   "metadata": {},
   "outputs": [],
   "source": [
    "import numpy as np\n",
    "import pandas as pd\n",
    "from matplotlib import pyplot as plt\n",
    "\n",
    "import matplotlib.image as mpimg\n",
    "from sklearn.model_selection import train_test_split, cross_val_score\n",
    "from sklearn.datasets import load_digits, load_sample_images\n",
    "\n",
    "from sklearn.preprocessing import OneHotEncoder\n",
    "from sklearn.metrics import accuracy_score, confusion_matrix\n",
    "import seaborn as sns"
   ]
  },
  {
   "cell_type": "markdown",
   "metadata": {},
   "source": [
    "# Objectives"
   ]
  },
  {
   "cell_type": "markdown",
   "metadata": {},
   "source": [
    "- Describe the concept of backpropagation\n",
    "- Explain the use of gradient descent in neural networks\n",
    "- Use `keras` to code up a neural network model"
   ]
  },
  {
   "cell_type": "markdown",
   "metadata": {},
   "source": [
    "# How Traning Neural Networks Work"
   ]
  },
  {
   "cell_type": "markdown",
   "metadata": {},
   "source": [
    "![backprop](img/ff-bb.gif)\n",
    "\n",
    "The graphic above can be a bit frustrating since it moves fast, but follow the progress as so:\n",
    "\n",
    "Forward propagation with the **blue** tinted arrows computes the output of each layer: i.e. a summation and activation.\n",
    "\n",
    "Backprop calculates the partial derivative (**green** circles) for each weight (**brown** line) and bias."
   ]
  },
  {
   "cell_type": "markdown",
   "metadata": {},
   "source": [
    "## Forward Propagation"
   ]
  },
  {
   "cell_type": "markdown",
   "metadata": {},
   "source": [
    "As we saw from last time, forward propagation. Is making a prediction with the neural network after the weights are \"frozen\" (unchanging). \n",
    "\n",
    "We feed in each data point through the neural network to make a prediction. This is usually relatively quick and the real magic comes in when we try to find ways to adjust our different weights to get a better prediction."
   ]
  },
  {
   "cell_type": "markdown",
   "metadata": {},
   "source": [
    "### Forward Propagation Implemented from Scratch"
   ]
  },
  {
   "cell_type": "markdown",
   "metadata": {},
   "source": [
    "Let's consider some images that we'll use as an example."
   ]
  },
  {
   "cell_type": "code",
   "execution_count": 2,
   "metadata": {},
   "outputs": [],
   "source": [
    "digits = load_digits()\n",
    "flat_image = np.array(digits.data[0]).reshape(digits.data[0].shape[0], -1)\n",
    "eight_by_eight_image = digits.images[0]"
   ]
  },
  {
   "cell_type": "code",
   "execution_count": 3,
   "metadata": {
    "scrolled": true
   },
   "outputs": [
    {
     "data": {
      "text/plain": [
       "array([[ 0.,  0.,  5., 13.,  9.,  1.,  0.,  0.],\n",
       "       [ 0.,  0., 13., 15., 10., 15.,  5.,  0.],\n",
       "       [ 0.,  3., 15.,  2.,  0., 11.,  8.,  0.],\n",
       "       [ 0.,  4., 12.,  0.,  0.,  8.,  8.,  0.],\n",
       "       [ 0.,  5.,  8.,  0.,  0.,  9.,  8.,  0.],\n",
       "       [ 0.,  4., 11.,  0.,  1., 12.,  7.,  0.],\n",
       "       [ 0.,  2., 14.,  5., 10., 12.,  0.,  0.],\n",
       "       [ 0.,  0.,  6., 13., 10.,  0.,  0.,  0.]])"
      ]
     },
     "execution_count": 3,
     "metadata": {},
     "output_type": "execute_result"
    }
   ],
   "source": [
    "eight_by_eight_image"
   ]
  },
  {
   "cell_type": "code",
   "execution_count": 4,
   "metadata": {},
   "outputs": [
    {
     "data": {
      "image/png": "[encoded data removed]",
      "text/plain": [
       "<Figure size 432x288 with 1 Axes>"
      ]
     },
     "metadata": {
      "needs_background": "light"
     },
     "output_type": "display_data"
    }
   ],
   "source": [
    "plt.imshow(eight_by_eight_image);"
   ]
  },
  {
   "cell_type": "code",
   "execution_count": 5,
   "metadata": {},
   "outputs": [
    {
     "data": {
      "text/plain": [
       "array([0, 1, 2, ..., 8, 9, 8])"
      ]
     },
     "execution_count": 5,
     "metadata": {},
     "output_type": "execute_result"
    }
   ],
   "source": [
    "digits.target"
   ]
  },
  {
   "cell_type": "code",
   "execution_count": 6,
   "metadata": {},
   "outputs": [
    {
     "data": {
      "text/plain": [
       "(1437, 64)"
      ]
     },
     "execution_count": 6,
     "metadata": {},
     "output_type": "execute_result"
    }
   ],
   "source": [
    "X_train, X_test, y_train, y_test = train_test_split(digits.data,\n",
    "                                                    digits.target,\n",
    "                                                    random_state=42,\n",
    "                                                    test_size=0.2)\n",
    "X_train.shape"
   ]
  },
  {
   "cell_type": "code",
   "execution_count": 7,
   "metadata": {},
   "outputs": [],
   "source": [
    "# Z is the input from our collector, the sum of the weights\n",
    "# multiplied by the features and the bias\n",
    "\n",
    "def sigmoid(z):\n",
    "    '''\n",
    "    Input the sum of our weights times the pixel intensities, plus the bias\n",
    "    Output a number between 0 and 1.\n",
    "    \n",
    "    '''\n",
    "    return 1/(1+np.e**(-z))"
   ]
  },
  {
   "cell_type": "code",
   "execution_count": 8,
   "metadata": {},
   "outputs": [],
   "source": [
    "# Simulation from last time\n",
    "\n",
    "w_1 = np.random.normal(0, 0.1, (X_train.shape[1], 1))\n",
    "w_1.shape\n",
    "\n",
    "b_1 = 0\n",
    "\n",
    "z_1 = X_train.dot(w_1) + b_1\n",
    "z_1\n",
    "\n",
    "output = sigmoid(z_1)"
   ]
  },
  {
   "cell_type": "code",
   "execution_count": 9,
   "metadata": {
    "scrolled": true
   },
   "outputs": [
    {
     "data": {
      "text/plain": [
       "array([[0],\n",
       "       [0],\n",
       "       [0],\n",
       "       [0],\n",
       "       [0]])"
      ]
     },
     "execution_count": 9,
     "metadata": {},
     "output_type": "execute_result"
    }
   ],
   "source": [
    "y_pred = output > .5\n",
    "y_hat = y_pred.astype(int)\n",
    "y_hat[:5]"
   ]
  },
  {
   "cell_type": "markdown",
   "metadata": {},
   "source": [
    "## Backpropagation (Backprop)"
   ]
  },
  {
   "cell_type": "markdown",
   "metadata": {},
   "source": [
    "After a certain number of data points have been passed through the model, the weights will be *updated* with an eye toward optimizing our loss function. (Thinking back to biological neurons, this is like revising their activation potentials.) Typically, this is  done  by using some version of gradient descent."
   ]
  },
  {
   "cell_type": "markdown",
   "metadata": {},
   "source": [
    "![bprop](img/BackProp_web.png)"
   ]
  },
  {
   "cell_type": "markdown",
   "metadata": {},
   "source": [
    "### Function Approximation"
   ]
  },
  {
   "cell_type": "markdown",
   "metadata": {},
   "source": [
    "[Neural networks are much like computational graphs](https://medium.com/tebs-lab/deep-neural-networks-as-computational-graphs-867fcaa56c9).\n",
    "\n",
    "And computational graphs can be used [to approximate *any* function](http://neuralnetworksanddeeplearning.com/chap4.html)."
   ]
  },
  {
   "cell_type": "markdown",
   "metadata": {},
   "source": [
    "### Loss Function"
   ]
  },
  {
   "cell_type": "markdown",
   "metadata": {},
   "source": [
    "If we're thinking of networks, then, as function approximators, of course we'll want to know how good the approximation is. And so once again we have the idea of a [loss function](https://ml-cheatsheet.readthedocs.io/en/latest/loss_functions.html), which is of course what licenses our thinking of networks as models in the first place.\n",
    "\n",
    "Many loss functions are available. Your choice will depend in part on whether you're doing a regression or classification problem."
   ]
  },
  {
   "cell_type": "markdown",
   "metadata": {},
   "source": [
    "Regression:\n",
    "\n",
    "- mean / median absolute error\n",
    "- mean / median squared error\n",
    "- [Huber loss](https://en.wikipedia.org/wiki/Huber_loss)"
   ]
  },
  {
   "cell_type": "markdown",
   "metadata": {},
   "source": [
    "Classification:\n",
    "\n",
    "- Crossentropy\n",
    "- [Hinge loss](https://en.wikipedia.org/wiki/Hinge_loss)\n",
    "- [Kullback-Leibler divergence](https://www.countbayesie.com/blog/2017/5/9/kullback-leibler-divergence-explained)"
   ]
  },
  {
   "cell_type": "markdown",
   "metadata": {},
   "source": [
    "The loss function tells us how well our model performed by comparing the predictions to the actual values."
   ]
  },
  {
   "cell_type": "markdown",
   "metadata": {},
   "source": [
    "When we train our models with `keras`, we will watch the loss function's progress across epochs.  A decreasing loss function will show us that our model is **improving**."
   ]
  },
  {
   "cell_type": "markdown",
   "metadata": {},
   "source": [
    "The loss function is associated with the nature of our output. In logistic regression, our output was binary, so our loss function was the negative loglikelihood, aka **cross-entropy**."
   ]
  },
  {
   "cell_type": "markdown",
   "metadata": {},
   "source": [
    "$$ \\Large -\\ loglikelihood = -\\frac{1}{m} * \\sum\\limits_{i=1}^m y_i\\log{p_i} + (1-y_i)\\log(1-p_i) $$\n",
    "    "
   ]
  },
  {
   "cell_type": "code",
   "execution_count": 10,
   "metadata": {},
   "outputs": [
    {
     "data": {
      "text/plain": [
       "array([6, 0, 0, ..., 2, 7, 1])"
      ]
     },
     "execution_count": 10,
     "metadata": {},
     "output_type": "execute_result"
    }
   ],
   "source": [
    "y_train"
   ]
  },
  {
   "cell_type": "code",
   "execution_count": 11,
   "metadata": {},
   "outputs": [],
   "source": [
    "y_train = y_train %2"
   ]
  },
  {
   "cell_type": "code",
   "execution_count": 12,
   "metadata": {},
   "outputs": [
    {
     "data": {
      "text/plain": [
       "array([0, 0, 0, ..., 0, 1, 1])"
      ]
     },
     "execution_count": 12,
     "metadata": {},
     "output_type": "execute_result"
    }
   ],
   "source": [
    "y_train"
   ]
  },
  {
   "cell_type": "code",
   "execution_count": 13,
   "metadata": {},
   "outputs": [
    {
     "data": {
      "text/plain": [
       "array([[-0.03893373, -0.03893373, -0.03893373, ..., -0.03893373,\n",
       "        -3.26529796, -3.26529796],\n",
       "       [-0.00790293, -0.00790293, -0.00790293, ..., -0.00790293,\n",
       "        -4.84447075, -4.84447075],\n",
       "       [-0.02301647, -0.02301647, -0.02301647, ..., -0.02301647,\n",
       "        -3.78303135, -3.78303135],\n",
       "       ...,\n",
       "       [-0.65336322, -0.65336322, -0.65336322, ..., -0.65336322,\n",
       "        -0.73457972, -0.73457972],\n",
       "       [-0.09340847, -0.09340847, -0.09340847, ..., -0.09340847,\n",
       "        -2.41711392, -2.41711392],\n",
       "       [-1.58685424, -1.58685424, -1.58685424, ..., -1.58685424,\n",
       "        -0.22887007, -0.22887007]])"
      ]
     },
     "execution_count": 13,
     "metadata": {},
     "output_type": "execute_result"
    }
   ],
   "source": [
    "y_train*np.log(output) + (1-y_train) * np.log(1-output)"
   ]
  },
  {
   "cell_type": "code",
   "execution_count": 14,
   "metadata": {
    "jupyter": {
     "source_hidden": true
    }
   },
   "outputs": [
    {
     "data": {
      "text/plain": [
       "3352.5795864636298"
      ]
     },
     "execution_count": 14,
     "metadata": {},
     "output_type": "execute_result"
    }
   ],
   "source": [
    "neg_ll = -1/len(y_train)*np.sum(y_train*np.log(output) + (1-y_train) * np.log(1-output))\n",
    "neg_ll"
   ]
  },
  {
   "cell_type": "markdown",
   "metadata": {},
   "source": [
    "For continuous variables, the loss function we have relied on is [MSE or MAE](http://rishy.github.io/ml/2015/07/28/l1-vs-l2-loss/).\n",
    "\n",
    "Good [resource](https://mattmazur.com/2015/03/17/a-step-by-step-backpropagation-example/) on backpropogation with RMSE loss function."
   ]
  },
  {
   "cell_type": "markdown",
   "metadata": {},
   "source": [
    "Here is a good summary of different [loss functions]( https://ml-cheatsheet.readthedocs.io/en/latest/loss_functions.html) "
   ]
  },
  {
   "cell_type": "markdown",
   "metadata": {},
   "source": [
    "## Adjusting Weights with Gradient Descent"
   ]
  },
  {
   "cell_type": "markdown",
   "metadata": {},
   "source": [
    "We not only use the the loss function to see how our model is improving; we also use it to update our parameters. The gradient of the loss function is calculated in relation to each parameter of our neural net."
   ]
  },
  {
   "cell_type": "markdown",
   "metadata": {},
   "source": [
    "For a deep dive into the fitting process, reference Chapter 11 in [Elements of Statistical Learning](https://web.stanford.edu/~hastie/ElemStatLearn/printings/ESLII_print12.pdf)"
   ]
  },
  {
   "cell_type": "markdown",
   "metadata": {},
   "source": [
    "Gradient descent can be performed in several different ways.  Unlike the `sklearn` implementation of linear regression, which finds the minimum of the loss with a closed form solution, neural networks move down the gradient **incrementally**."
   ]
  },
  {
   "cell_type": "markdown",
   "metadata": {},
   "source": [
    "When **all examples** from a training set have passed through the network and weights are adjusted with backpropagation, we say an ***epoch*** has been completed."
   ]
  },
  {
   "cell_type": "markdown",
   "metadata": {},
   "source": [
    "# Tensorflow and Keras"
   ]
  },
  {
   "cell_type": "code",
   "execution_count": 15,
   "metadata": {},
   "outputs": [],
   "source": [
    "import keras"
   ]
  },
  {
   "cell_type": "markdown",
   "metadata": {},
   "source": [
    "Wait a second, what is that warning? \n",
    "`Using TensorFlow backend.`\n",
    "\n",
    "<img align =left src=\"img/keras.png\"><br>"
   ]
  },
  {
   "cell_type": "markdown",
   "metadata": {},
   "source": [
    "## Keras is an API"
   ]
  },
  {
   "cell_type": "markdown",
   "metadata": {},
   "source": [
    "It can be layered on top of many different back-end processing systems.\n",
    "\n",
    "![kerasback](img/keras_tf_theano.png)"
   ]
  },
  {
   "cell_type": "markdown",
   "metadata": {},
   "source": [
    "While each of these systems has its own coding methods, `keras` abstracts from that in the streamlined Pythonic manner we are used to seeing in other Python modeling libraries.\n",
    "\n",
    "Keras development is backed primarily by Google, and the Keras API comes packaged in TensorFlow as tf.keras. Additionally, Microsoft maintains the CNTK Keras backend. Amazon AWS is maintaining the Keras fork with MXNet support. Other contributing companies include NVIDIA, Uber, and Apple (with CoreML).\n",
    "\n",
    "Theano has been discontinued.  The last release was 2017, but can still be used."
   ]
  },
  {
   "cell_type": "markdown",
   "metadata": {},
   "source": [
    "We will use TensorFlow, as it is the most popular. TensorFlow became the most used Keras backend, and  eventually integrated Keras in via its `tf.keras` submodule."
   ]
  },
  {
   "cell_type": "markdown",
   "metadata": {},
   "source": [
    "## Creating and Using a Neural Network"
   ]
  },
  {
   "cell_type": "code",
   "execution_count": 16,
   "metadata": {},
   "outputs": [],
   "source": [
    "digits = load_digits()\n",
    "X = digits.data\n",
    "y = digits.target"
   ]
  },
  {
   "cell_type": "code",
   "execution_count": 40,
   "metadata": {},
   "outputs": [
    {
     "data": {
      "text/plain": [
       "array([ 0.,  0.,  5., 13.,  9.,  1.,  0.,  0.,  0.,  0., 13., 15., 10.,\n",
       "       15.,  5.,  0.,  0.,  3., 15.,  2.,  0., 11.,  8.,  0.,  0.,  4.,\n",
       "       12.,  0.,  0.,  8.,  8.,  0.,  0.,  5.,  8.,  0.,  0.,  9.,  8.,\n",
       "        0.,  0.,  4., 11.,  0.,  1., 12.,  7.,  0.,  0.,  2., 14.,  5.,\n",
       "       10., 12.,  0.,  0.,  0.,  0.,  6., 13., 10.,  0.,  0.,  0.])"
      ]
     },
     "execution_count": 40,
     "metadata": {},
     "output_type": "execute_result"
    }
   ],
   "source": [
    "X[0]"
   ]
  },
  {
   "cell_type": "code",
   "execution_count": 39,
   "metadata": {},
   "outputs": [
    {
     "data": {
      "text/plain": [
       "(<matplotlib.image.AxesImage at 0x7f9afc0ab160>, 0)"
      ]
     },
     "execution_count": 39,
     "metadata": {},
     "output_type": "execute_result"
    },
    {
     "data": {
      "image/png": "[encoded data removed]",
      "text/plain": [
       "<Figure size 432x288 with 1 Axes>"
      ]
     },
     "metadata": {
      "needs_background": "light"
     },
     "output_type": "display_data"
    }
   ],
   "source": [
    "i = 0\n",
    "plt.imshow(X[i].reshape(8,8)) , y[i] "
   ]
  },
  {
   "cell_type": "markdown",
   "metadata": {},
   "source": [
    "We will start with a binary classification, and predict whether the number will be even or odd."
   ]
  },
  {
   "cell_type": "code",
   "execution_count": 42,
   "metadata": {},
   "outputs": [
    {
     "data": {
      "text/plain": [
       "array([0, 1, 0, ..., 0, 1, 0])"
      ]
     },
     "execution_count": 42,
     "metadata": {},
     "output_type": "execute_result"
    }
   ],
   "source": [
    "y_binary = y % 2\n",
    "y_binary"
   ]
  },
  {
   "cell_type": "markdown",
   "metadata": {},
   "source": [
    "Test-Train split"
   ]
  },
  {
   "cell_type": "code",
   "execution_count": 43,
   "metadata": {},
   "outputs": [],
   "source": [
    "X_train, X_test, y_train, y_test = train_test_split(X, y_binary, random_state=27, test_size=0.2)"
   ]
  },
  {
   "cell_type": "markdown",
   "metadata": {},
   "source": [
    "### Initialize a Linear Stack of Layers"
   ]
  },
  {
   "cell_type": "markdown",
   "metadata": {},
   "source": [
    "`Sequential` is referring to the neural networks we've observed. There are other neural network models that will go beyond this class."
   ]
  },
  {
   "cell_type": "code",
   "execution_count": 44,
   "metadata": {},
   "outputs": [],
   "source": [
    "from keras.models import Sequential\n",
    "\n",
    "model = Sequential()"
   ]
  },
  {
   "cell_type": "markdown",
   "metadata": {},
   "source": [
    "### Add Densely Connected Layers"
   ]
  },
  {
   "cell_type": "markdown",
   "metadata": {},
   "source": [
    "The actual network; we can decide how many layers & nodes for each layer here as well as other hyperparameters like the activation function."
   ]
  },
  {
   "cell_type": "code",
   "execution_count": 45,
   "metadata": {},
   "outputs": [],
   "source": [
    "from keras.layers import Dense\n",
    "\n",
    "model.add(Dense(units=30, activation='relu', input_dim=64, name='First_Layer'))\n",
    "# Use a 2nd hidden layer for more parameters & complexity\n",
    "# model.add(Dense(units=16, activation='relu'))\n",
    "model.add(Dense(units=3, activation='softmax'))"
   ]
  },
  {
   "cell_type": "markdown",
   "metadata": {},
   "source": [
    "### Compile the Model"
   ]
  },
  {
   "cell_type": "markdown",
   "metadata": {},
   "source": [
    "The next step is new: After building the model we'll now **compile** it, which is a matter of yoking together the architecture with:\n",
    "- the optimizer we want to use,\n",
    "- the loss function we want to use, and\n",
    "- the metrics we want to use."
   ]
  },
  {
   "cell_type": "code",
   "execution_count": 46,
   "metadata": {},
   "outputs": [],
   "source": [
    "# A simple model with little optimizers\n",
    "model.compile(loss='binary_crossentropy',\n",
    "              metrics=['accuracy'])"
   ]
  },
  {
   "cell_type": "markdown",
   "metadata": {},
   "source": [
    "##### Aside"
   ]
  },
  {
   "cell_type": "code",
   "execution_count": 47,
   "metadata": {},
   "outputs": [],
   "source": [
    "# Alterntative model to compile\n",
    "optimize_model = Sequential()\n",
    "optimize_model.add(Dense(units=30, activation='relu', input_dim=64))\n",
    "optimize_model.add(Dense(units=3, activation='softmax'))\n",
    "\n",
    "# Using optimizers\n",
    "from keras import optimizers\n",
    "optimize_model.compile(loss=keras.losses.categorical_crossentropy,\n",
    "              optimizer=optimizers.SGD(lr=0.001, momentum=0.9, nesterov=True),\n",
    "              metrics=['accuracy'])"
   ]
  },
  {
   "cell_type": "markdown",
   "metadata": {},
   "source": [
    "### Investigate the Model"
   ]
  },
  {
   "cell_type": "code",
   "execution_count": 48,
   "metadata": {},
   "outputs": [
    {
     "name": "stdout",
     "output_type": "stream",
     "text": [
      "Model: \"sequential\"\n",
      "_________________________________________________________________\n",
      "Layer (type)                 Output Shape              Param #   \n",
      "=================================================================\n",
      "First_Layer (Dense)          (None, 30)                1950      \n",
      "_________________________________________________________________\n",
      "dense (Dense)                (None, 3)                 93        \n",
      "=================================================================\n",
      "Total params: 2,043\n",
      "Trainable params: 2,043\n",
      "Non-trainable params: 0\n",
      "_________________________________________________________________\n"
     ]
    }
   ],
   "source": [
    "model.summary()"
   ]
  },
  {
   "cell_type": "code",
   "execution_count": 49,
   "metadata": {},
   "outputs": [
    {
     "data": {
      "text/plain": [
       "[<tensorflow.python.keras.layers.core.Dense at 0x7f9afc06d8b0>,\n",
       " <tensorflow.python.keras.layers.core.Dense at 0x7f9afc06df70>]"
      ]
     },
     "execution_count": 49,
     "metadata": {},
     "output_type": "execute_result"
    }
   ],
   "source": [
    "model.layers"
   ]
  },
  {
   "cell_type": "code",
   "execution_count": 50,
   "metadata": {},
   "outputs": [
    {
     "data": {
      "text/plain": [
       "<tensorflow.python.keras.layers.core.Dense at 0x7f9afc06d8b0>"
      ]
     },
     "execution_count": 50,
     "metadata": {},
     "output_type": "execute_result"
    }
   ],
   "source": [
    "model.get_layer('First_Layer')"
   ]
  },
  {
   "cell_type": "code",
   "execution_count": 51,
   "metadata": {},
   "outputs": [
    {
     "name": "stdout",
     "output_type": "stream",
     "text": [
      "Weights:\n",
      " [[ 0.23417854  0.00852296 -0.04107663 ... -0.08339362 -0.15539643\n",
      "  -0.08844942]\n",
      " [ 0.05604169 -0.23024012  0.16051343 ...  0.16867164  0.00187755\n",
      "   0.0644691 ]\n",
      " [ 0.01281515 -0.0809845  -0.07643288 ... -0.10698433 -0.22199148\n",
      "  -0.19972457]\n",
      " ...\n",
      " [ 0.2345837   0.25219032  0.09486282 ...  0.20108798 -0.13744605\n",
      "   0.13993666]\n",
      " [ 0.2455436   0.04507017 -0.10140611 ... -0.03054278 -0.24516784\n",
      "  -0.01282622]\n",
      " [ 0.0972698   0.13048953  0.10812712 ...  0.09135553 -0.07269709\n",
      "  -0.09982204]]\n",
      "\n",
      "Biases:\n",
      " [0. 0. 0. 0. 0. 0. 0. 0. 0. 0. 0. 0. 0. 0. 0. 0. 0. 0. 0. 0. 0. 0. 0. 0.\n",
      " 0. 0. 0. 0. 0. 0.]\n"
     ]
    }
   ],
   "source": [
    "weights, biases = model.layers[0].get_weights()\n",
    "\n",
    "print('Weights:\\n', weights)\n",
    "print()\n",
    "print('Biases:\\n', biases)"
   ]
  },
  {
   "cell_type": "markdown",
   "metadata": {},
   "source": [
    "### Fit the Model"
   ]
  },
  {
   "cell_type": "markdown",
   "metadata": {},
   "source": [
    "Using the model structure, we do sequences of feed forward and then backpropagation to adjust the weights and biases (training/fitting)"
   ]
  },
  {
   "cell_type": "markdown",
   "metadata": {},
   "source": [
    "Now we're ready to **fit** it!"
   ]
  },
  {
   "cell_type": "code",
   "execution_count": 52,
   "metadata": {
    "scrolled": true
   },
   "outputs": [
    {
     "name": "stdout",
     "output_type": "stream",
     "text": [
      "Epoch 1/50\n",
      "29/29 [==============================] - 0s 549us/step - loss: 1.6897 - accuracy: 0.3013\n",
      "Epoch 2/50\n",
      "29/29 [==============================] - 0s 702us/step - loss: 1.2227 - accuracy: 0.3479\n",
      "Epoch 3/50\n",
      "29/29 [==============================] - 0s 668us/step - loss: 1.0612 - accuracy: 0.3820\n",
      "Epoch 4/50\n",
      "29/29 [==============================] - 0s 592us/step - loss: 0.9664 - accuracy: 0.3542\n",
      "Epoch 5/50\n",
      "29/29 [==============================] - 0s 610us/step - loss: 0.9074 - accuracy: 0.3737\n",
      "Epoch 6/50\n",
      "29/29 [==============================] - 0s 577us/step - loss: 0.8765 - accuracy: 0.3751\n",
      "Epoch 7/50\n",
      "29/29 [==============================] - 0s 545us/step - loss: 0.8540 - accuracy: 0.3848\n",
      "Epoch 8/50\n",
      "29/29 [==============================] - 0s 600us/step - loss: 0.8371 - accuracy: 0.3800\n",
      "Epoch 9/50\n",
      "29/29 [==============================] - 0s 608us/step - loss: 0.8243 - accuracy: 0.3751\n",
      "Epoch 10/50\n",
      "29/29 [==============================] - 0s 553us/step - loss: 0.8171 - accuracy: 0.3841\n",
      "Epoch 11/50\n",
      "29/29 [==============================] - 0s 623us/step - loss: 0.8142 - accuracy: 0.3751\n",
      "Epoch 12/50\n",
      "29/29 [==============================] - 0s 710us/step - loss: 0.8092 - accuracy: 0.3723\n",
      "Epoch 13/50\n",
      "29/29 [==============================] - 0s 563us/step - loss: 0.8017 - accuracy: 0.3646\n",
      "Epoch 14/50\n",
      "29/29 [==============================] - 0s 656us/step - loss: 0.8026 - accuracy: 0.3737\n",
      "Epoch 15/50\n",
      "29/29 [==============================] - 0s 509us/step - loss: 0.7968 - accuracy: 0.3681\n",
      "Epoch 16/50\n",
      "29/29 [==============================] - 0s 518us/step - loss: 0.7953 - accuracy: 0.3667\n",
      "Epoch 17/50\n",
      "29/29 [==============================] - 0s 531us/step - loss: 0.7936 - accuracy: 0.3723\n",
      "Epoch 18/50\n",
      "29/29 [==============================] - 0s 662us/step - loss: 0.7915 - accuracy: 0.3730\n",
      "Epoch 19/50\n",
      "29/29 [==============================] - 0s 576us/step - loss: 0.7883 - accuracy: 0.3737\n",
      "Epoch 20/50\n",
      "29/29 [==============================] - 0s 536us/step - loss: 0.7863 - accuracy: 0.3626\n",
      "Epoch 21/50\n",
      "29/29 [==============================] - 0s 615us/step - loss: 0.7854 - accuracy: 0.3653\n",
      "Epoch 22/50\n",
      "29/29 [==============================] - 0s 522us/step - loss: 0.7863 - accuracy: 0.3528\n",
      "Epoch 23/50\n",
      "29/29 [==============================] - 0s 601us/step - loss: 0.7826 - accuracy: 0.3514\n",
      "Epoch 24/50\n",
      "29/29 [==============================] - 0s 525us/step - loss: 0.7818 - accuracy: 0.3452\n",
      "Epoch 25/50\n",
      "29/29 [==============================] - 0s 674us/step - loss: 0.7841 - accuracy: 0.3591\n",
      "Epoch 26/50\n",
      "29/29 [==============================] - 0s 601us/step - loss: 0.7812 - accuracy: 0.3500\n",
      "Epoch 27/50\n",
      "29/29 [==============================] - 0s 592us/step - loss: 0.7813 - accuracy: 0.3396\n",
      "Epoch 28/50\n",
      "29/29 [==============================] - 0s 512us/step - loss: 0.7788 - accuracy: 0.3577\n",
      "Epoch 29/50\n",
      "29/29 [==============================] - 0s 584us/step - loss: 0.7808 - accuracy: 0.3486\n",
      "Epoch 30/50\n",
      "29/29 [==============================] - 0s 566us/step - loss: 0.7782 - accuracy: 0.3466\n",
      "Epoch 31/50\n",
      "29/29 [==============================] - 0s 487us/step - loss: 0.7784 - accuracy: 0.3417\n",
      "Epoch 32/50\n",
      "29/29 [==============================] - 0s 645us/step - loss: 0.7762 - accuracy: 0.3445\n",
      "Epoch 33/50\n",
      "29/29 [==============================] - 0s 630us/step - loss: 0.7780 - accuracy: 0.3305\n",
      "Epoch 34/50\n",
      "29/29 [==============================] - 0s 555us/step - loss: 0.7754 - accuracy: 0.3417\n",
      "Epoch 35/50\n",
      "29/29 [==============================] - 0s 554us/step - loss: 0.7749 - accuracy: 0.3208\n",
      "Epoch 36/50\n",
      "29/29 [==============================] - 0s 558us/step - loss: 0.7797 - accuracy: 0.3438\n",
      "Epoch 37/50\n",
      "29/29 [==============================] - 0s 658us/step - loss: 0.7735 - accuracy: 0.3292\n",
      "Epoch 38/50\n",
      "29/29 [==============================] - 0s 571us/step - loss: 0.7759 - accuracy: 0.3333\n",
      "Epoch 39/50\n",
      "29/29 [==============================] - 0s 562us/step - loss: 0.7765 - accuracy: 0.3563\n",
      "Epoch 40/50\n",
      "29/29 [==============================] - 0s 647us/step - loss: 0.7737 - accuracy: 0.3312\n",
      "Epoch 41/50\n",
      "29/29 [==============================] - 0s 479us/step - loss: 0.7752 - accuracy: 0.3187\n",
      "Epoch 42/50\n",
      "29/29 [==============================] - 0s 533us/step - loss: 0.7738 - accuracy: 0.3027\n",
      "Epoch 43/50\n",
      "29/29 [==============================] - 0s 573us/step - loss: 0.7750 - accuracy: 0.3069\n",
      "Epoch 44/50\n",
      "29/29 [==============================] - 0s 632us/step - loss: 0.7736 - accuracy: 0.3159\n",
      "Epoch 45/50\n",
      "29/29 [==============================] - 0s 610us/step - loss: 0.7742 - accuracy: 0.3299\n",
      "Epoch 46/50\n",
      "29/29 [==============================] - 0s 489us/step - loss: 0.7732 - accuracy: 0.3041\n",
      "Epoch 47/50\n",
      "29/29 [==============================] - 0s 614us/step - loss: 0.7733 - accuracy: 0.3173\n",
      "Epoch 48/50\n",
      "29/29 [==============================] - 0s 553us/step - loss: 0.7738 - accuracy: 0.3180\n",
      "Epoch 49/50\n",
      "29/29 [==============================] - 0s 632us/step - loss: 0.7733 - accuracy: 0.3013\n",
      "Epoch 50/50\n",
      "29/29 [==============================] - 0s 551us/step - loss: 0.7729 - accuracy: 0.2846\n"
     ]
    }
   ],
   "source": [
    "# Saving history to refer to\n",
    "history = model.fit(X_train, y_train, epochs=50, batch_size=50)"
   ]
  },
  {
   "cell_type": "code",
   "execution_count": 53,
   "metadata": {},
   "outputs": [],
   "source": [
    "# alternatively could have specified a specific batch to train on\n",
    "# model.train_on_batch(x_batch, y_batch)"
   ]
  },
  {
   "cell_type": "markdown",
   "metadata": {},
   "source": [
    "Let's take a look at the model after training"
   ]
  },
  {
   "cell_type": "code",
   "execution_count": 54,
   "metadata": {},
   "outputs": [
    {
     "name": "stdout",
     "output_type": "stream",
     "text": [
      "Weights:\n",
      " [[ 0.23417854  0.00852296 -0.04107663 ... -0.08339362 -0.15539643\n",
      "  -0.08844942]\n",
      " [ 0.05345865 -0.11188643  0.16969141 ...  0.1604604  -0.00351648\n",
      "   0.0755984 ]\n",
      " [-0.03383974 -0.03205248 -0.10323316 ... -0.13460955 -0.25213414\n",
      "  -0.1435179 ]\n",
      " ...\n",
      " [ 0.12962621  0.21754438  0.07155382 ...  0.17149769 -0.13615373\n",
      "   0.14834157]\n",
      " [ 0.18019797  0.0067807  -0.11678905 ... -0.04742233 -0.22415543\n",
      "  -0.05055965]\n",
      " [ 0.032431    0.13469377  0.11043428 ...  0.07617444 -0.07269709\n",
      "  -0.04423236]]\n",
      "\n",
      "Biases:\n",
      " [-0.03866817  0.01555362 -0.02994819  0.02196369 -0.03066522 -0.04244139\n",
      " -0.01292304 -0.05081429 -0.04251854 -0.0561819  -0.03865302 -0.02912368\n",
      " -0.0648513  -0.03333634 -0.02551414 -0.02013559 -0.01742926 -0.01854597\n",
      " -0.02225251  0.0082464  -0.02466037 -0.06450332 -0.021431   -0.03071201\n",
      "  0.0202933   0.07349207 -0.03313698 -0.032932   -0.01508022 -0.00947721]\n"
     ]
    }
   ],
   "source": [
    "# See how the weights and biases changed\n",
    "weights, biases = model.layers[0].get_weights()\n",
    "\n",
    "print('Weights:\\n', weights)\n",
    "print()\n",
    "print('Biases:\\n', biases)"
   ]
  },
  {
   "cell_type": "markdown",
   "metadata": {},
   "source": [
    "### Evaluating the Trained Model"
   ]
  },
  {
   "cell_type": "code",
   "execution_count": 55,
   "metadata": {
    "scrolled": true
   },
   "outputs": [
    {
     "data": {
      "text/html": [
       "<div>\n",
       "<style scoped>\n",
       "    .dataframe tbody tr th:only-of-type {\n",
       "        vertical-align: middle;\n",
       "    }\n",
       "\n",
       "    .dataframe tbody tr th {\n",
       "        vertical-align: top;\n",
       "    }\n",
       "\n",
       "    .dataframe thead th {\n",
       "        text-align: right;\n",
       "    }\n",
       "</style>\n",
       "<table border=\"1\" class=\"dataframe\">\n",
       "  <thead>\n",
       "    <tr style=\"text-align: right;\">\n",
       "      <th></th>\n",
       "      <th>loss</th>\n",
       "      <th>accuracy</th>\n",
       "    </tr>\n",
       "  </thead>\n",
       "  <tbody>\n",
       "    <tr>\n",
       "      <th>0</th>\n",
       "      <td>1.689729</td>\n",
       "      <td>0.301322</td>\n",
       "    </tr>\n",
       "    <tr>\n",
       "      <th>1</th>\n",
       "      <td>1.222728</td>\n",
       "      <td>0.347947</td>\n",
       "    </tr>\n",
       "    <tr>\n",
       "      <th>2</th>\n",
       "      <td>1.061233</td>\n",
       "      <td>0.382046</td>\n",
       "    </tr>\n",
       "    <tr>\n",
       "      <th>3</th>\n",
       "      <td>0.966386</td>\n",
       "      <td>0.354210</td>\n",
       "    </tr>\n",
       "    <tr>\n",
       "      <th>4</th>\n",
       "      <td>0.907394</td>\n",
       "      <td>0.373695</td>\n",
       "    </tr>\n",
       "    <tr>\n",
       "      <th>5</th>\n",
       "      <td>0.876493</td>\n",
       "      <td>0.375087</td>\n",
       "    </tr>\n",
       "    <tr>\n",
       "      <th>6</th>\n",
       "      <td>0.853959</td>\n",
       "      <td>0.384829</td>\n",
       "    </tr>\n",
       "    <tr>\n",
       "      <th>7</th>\n",
       "      <td>0.837116</td>\n",
       "      <td>0.379958</td>\n",
       "    </tr>\n",
       "    <tr>\n",
       "      <th>8</th>\n",
       "      <td>0.824282</td>\n",
       "      <td>0.375087</td>\n",
       "    </tr>\n",
       "    <tr>\n",
       "      <th>9</th>\n",
       "      <td>0.817074</td>\n",
       "      <td>0.384134</td>\n",
       "    </tr>\n",
       "    <tr>\n",
       "      <th>10</th>\n",
       "      <td>0.814234</td>\n",
       "      <td>0.375087</td>\n",
       "    </tr>\n",
       "    <tr>\n",
       "      <th>11</th>\n",
       "      <td>0.809173</td>\n",
       "      <td>0.372303</td>\n",
       "    </tr>\n",
       "    <tr>\n",
       "      <th>12</th>\n",
       "      <td>0.801674</td>\n",
       "      <td>0.364649</td>\n",
       "    </tr>\n",
       "    <tr>\n",
       "      <th>13</th>\n",
       "      <td>0.802567</td>\n",
       "      <td>0.373695</td>\n",
       "    </tr>\n",
       "    <tr>\n",
       "      <th>14</th>\n",
       "      <td>0.796826</td>\n",
       "      <td>0.368128</td>\n",
       "    </tr>\n",
       "    <tr>\n",
       "      <th>15</th>\n",
       "      <td>0.795319</td>\n",
       "      <td>0.366736</td>\n",
       "    </tr>\n",
       "    <tr>\n",
       "      <th>16</th>\n",
       "      <td>0.793605</td>\n",
       "      <td>0.372303</td>\n",
       "    </tr>\n",
       "    <tr>\n",
       "      <th>17</th>\n",
       "      <td>0.791458</td>\n",
       "      <td>0.372999</td>\n",
       "    </tr>\n",
       "    <tr>\n",
       "      <th>18</th>\n",
       "      <td>0.788339</td>\n",
       "      <td>0.373695</td>\n",
       "    </tr>\n",
       "    <tr>\n",
       "      <th>19</th>\n",
       "      <td>0.786335</td>\n",
       "      <td>0.362561</td>\n",
       "    </tr>\n",
       "    <tr>\n",
       "      <th>20</th>\n",
       "      <td>0.785432</td>\n",
       "      <td>0.365344</td>\n",
       "    </tr>\n",
       "    <tr>\n",
       "      <th>21</th>\n",
       "      <td>0.786250</td>\n",
       "      <td>0.352818</td>\n",
       "    </tr>\n",
       "    <tr>\n",
       "      <th>22</th>\n",
       "      <td>0.782563</td>\n",
       "      <td>0.351427</td>\n",
       "    </tr>\n",
       "    <tr>\n",
       "      <th>23</th>\n",
       "      <td>0.781812</td>\n",
       "      <td>0.345164</td>\n",
       "    </tr>\n",
       "    <tr>\n",
       "      <th>24</th>\n",
       "      <td>0.784094</td>\n",
       "      <td>0.359081</td>\n",
       "    </tr>\n",
       "    <tr>\n",
       "      <th>25</th>\n",
       "      <td>0.781157</td>\n",
       "      <td>0.350035</td>\n",
       "    </tr>\n",
       "    <tr>\n",
       "      <th>26</th>\n",
       "      <td>0.781282</td>\n",
       "      <td>0.339596</td>\n",
       "    </tr>\n",
       "    <tr>\n",
       "      <th>27</th>\n",
       "      <td>0.778835</td>\n",
       "      <td>0.357690</td>\n",
       "    </tr>\n",
       "    <tr>\n",
       "      <th>28</th>\n",
       "      <td>0.780788</td>\n",
       "      <td>0.348643</td>\n",
       "    </tr>\n",
       "    <tr>\n",
       "      <th>29</th>\n",
       "      <td>0.778229</td>\n",
       "      <td>0.346555</td>\n",
       "    </tr>\n",
       "    <tr>\n",
       "      <th>30</th>\n",
       "      <td>0.778405</td>\n",
       "      <td>0.341684</td>\n",
       "    </tr>\n",
       "    <tr>\n",
       "      <th>31</th>\n",
       "      <td>0.776195</td>\n",
       "      <td>0.344468</td>\n",
       "    </tr>\n",
       "    <tr>\n",
       "      <th>32</th>\n",
       "      <td>0.777978</td>\n",
       "      <td>0.330550</td>\n",
       "    </tr>\n",
       "    <tr>\n",
       "      <th>33</th>\n",
       "      <td>0.775445</td>\n",
       "      <td>0.341684</td>\n",
       "    </tr>\n",
       "    <tr>\n",
       "      <th>34</th>\n",
       "      <td>0.774866</td>\n",
       "      <td>0.320807</td>\n",
       "    </tr>\n",
       "    <tr>\n",
       "      <th>35</th>\n",
       "      <td>0.779749</td>\n",
       "      <td>0.343772</td>\n",
       "    </tr>\n",
       "    <tr>\n",
       "      <th>36</th>\n",
       "      <td>0.773469</td>\n",
       "      <td>0.329158</td>\n",
       "    </tr>\n",
       "    <tr>\n",
       "      <th>37</th>\n",
       "      <td>0.775915</td>\n",
       "      <td>0.333333</td>\n",
       "    </tr>\n",
       "    <tr>\n",
       "      <th>38</th>\n",
       "      <td>0.776544</td>\n",
       "      <td>0.356298</td>\n",
       "    </tr>\n",
       "    <tr>\n",
       "      <th>39</th>\n",
       "      <td>0.773686</td>\n",
       "      <td>0.331246</td>\n",
       "    </tr>\n",
       "    <tr>\n",
       "      <th>40</th>\n",
       "      <td>0.775209</td>\n",
       "      <td>0.318720</td>\n",
       "    </tr>\n",
       "    <tr>\n",
       "      <th>41</th>\n",
       "      <td>0.773832</td>\n",
       "      <td>0.302714</td>\n",
       "    </tr>\n",
       "    <tr>\n",
       "      <th>42</th>\n",
       "      <td>0.775000</td>\n",
       "      <td>0.306889</td>\n",
       "    </tr>\n",
       "    <tr>\n",
       "      <th>43</th>\n",
       "      <td>0.773645</td>\n",
       "      <td>0.315936</td>\n",
       "    </tr>\n",
       "    <tr>\n",
       "      <th>44</th>\n",
       "      <td>0.774175</td>\n",
       "      <td>0.329854</td>\n",
       "    </tr>\n",
       "    <tr>\n",
       "      <th>45</th>\n",
       "      <td>0.773201</td>\n",
       "      <td>0.304106</td>\n",
       "    </tr>\n",
       "    <tr>\n",
       "      <th>46</th>\n",
       "      <td>0.773347</td>\n",
       "      <td>0.317328</td>\n",
       "    </tr>\n",
       "    <tr>\n",
       "      <th>47</th>\n",
       "      <td>0.773834</td>\n",
       "      <td>0.318024</td>\n",
       "    </tr>\n",
       "    <tr>\n",
       "      <th>48</th>\n",
       "      <td>0.773320</td>\n",
       "      <td>0.301322</td>\n",
       "    </tr>\n",
       "    <tr>\n",
       "      <th>49</th>\n",
       "      <td>0.772925</td>\n",
       "      <td>0.284621</td>\n",
       "    </tr>\n",
       "  </tbody>\n",
       "</table>\n",
       "</div>"
      ],
      "text/plain": [
       "        loss  accuracy\n",
       "0   1.689729  0.301322\n",
       "1   1.222728  0.347947\n",
       "2   1.061233  0.382046\n",
       "3   0.966386  0.354210\n",
       "4   0.907394  0.373695\n",
       "5   0.876493  0.375087\n",
       "6   0.853959  0.384829\n",
       "7   0.837116  0.379958\n",
       "8   0.824282  0.375087\n",
       "9   0.817074  0.384134\n",
       "10  0.814234  0.375087\n",
       "11  0.809173  0.372303\n",
       "12  0.801674  0.364649\n",
       "13  0.802567  0.373695\n",
       "14  0.796826  0.368128\n",
       "15  0.795319  0.366736\n",
       "16  0.793605  0.372303\n",
       "17  0.791458  0.372999\n",
       "18  0.788339  0.373695\n",
       "19  0.786335  0.362561\n",
       "20  0.785432  0.365344\n",
       "21  0.786250  0.352818\n",
       "22  0.782563  0.351427\n",
       "23  0.781812  0.345164\n",
       "24  0.784094  0.359081\n",
       "25  0.781157  0.350035\n",
       "26  0.781282  0.339596\n",
       "27  0.778835  0.357690\n",
       "28  0.780788  0.348643\n",
       "29  0.778229  0.346555\n",
       "30  0.778405  0.341684\n",
       "31  0.776195  0.344468\n",
       "32  0.777978  0.330550\n",
       "33  0.775445  0.341684\n",
       "34  0.774866  0.320807\n",
       "35  0.779749  0.343772\n",
       "36  0.773469  0.329158\n",
       "37  0.775915  0.333333\n",
       "38  0.776544  0.356298\n",
       "39  0.773686  0.331246\n",
       "40  0.775209  0.318720\n",
       "41  0.773832  0.302714\n",
       "42  0.775000  0.306889\n",
       "43  0.773645  0.315936\n",
       "44  0.774175  0.329854\n",
       "45  0.773201  0.304106\n",
       "46  0.773347  0.317328\n",
       "47  0.773834  0.318024\n",
       "48  0.773320  0.301322\n",
       "49  0.772925  0.284621"
      ]
     },
     "execution_count": 55,
     "metadata": {},
     "output_type": "execute_result"
    }
   ],
   "source": [
    "df = pd.DataFrame(history.history)\n",
    "df"
   ]
  },
  {
   "cell_type": "code",
   "execution_count": 56,
   "metadata": {
    "scrolled": true
   },
   "outputs": [
    {
     "data": {
      "image/png": "[encoded data removed]",
      "text/plain": [
       "<Figure size 576x360 with 1 Axes>"
      ]
     },
     "metadata": {
      "needs_background": "light"
     },
     "output_type": "display_data"
    }
   ],
   "source": [
    "df.plot(figsize=(8, 5))\n",
    "plt.grid(True)\n",
    "plt.show()"
   ]
  },
  {
   "cell_type": "markdown",
   "metadata": {},
   "source": [
    "We can look at the overall loss from our test data after training the model was trained"
   ]
  },
  {
   "cell_type": "code",
   "execution_count": 58,
   "metadata": {},
   "outputs": [
    {
     "name": "stdout",
     "output_type": "stream",
     "text": [
      "45/45 [==============================] - 0s 426us/step - loss: 0.7697 - accuracy: 0.5651\n"
     ]
    },
    {
     "data": {
      "text/plain": [
       "[0.7696570754051208, 0.5650660991668701]"
      ]
     },
     "execution_count": 58,
     "metadata": {},
     "output_type": "execute_result"
    }
   ],
   "source": [
    "# Could also just use a batch to evaluate\n",
    "# loss_and_metrics = model.evaluate(x_test, y_test, batch_size=16)\n",
    "\n",
    "loss_and_metrics = model.evaluate(X_train, y_train)\n",
    "\n",
    "loss_and_metrics"
   ]
  },
  {
   "cell_type": "code",
   "execution_count": 57,
   "metadata": {},
   "outputs": [
    {
     "name": "stdout",
     "output_type": "stream",
     "text": [
      "12/12 [==============================] - 0s 453us/step - loss: 0.7580 - accuracy: 0.5639\n"
     ]
    },
    {
     "data": {
      "text/plain": [
       "[0.7579777240753174, 0.5638889074325562]"
      ]
     },
     "execution_count": 57,
     "metadata": {},
     "output_type": "execute_result"
    }
   ],
   "source": [
    "loss_and_metrics = model.evaluate(X_test, y_test)\n",
    "\n",
    "loss_and_metrics"
   ]
  },
  {
   "cell_type": "markdown",
   "metadata": {},
   "source": [
    "We can have predictions (probability the data point is a particular class based on our trained model)"
   ]
  },
  {
   "cell_type": "code",
   "execution_count": 59,
   "metadata": {},
   "outputs": [
    {
     "data": {
      "text/plain": [
       "array([[0.3927141 , 0.35374096, 0.25354496],\n",
       "       [0.34459633, 0.41304046, 0.2423632 ],\n",
       "       [0.35485822, 0.38166836, 0.26347345],\n",
       "       ...,\n",
       "       [0.35293603, 0.37116796, 0.27589607],\n",
       "       [0.36041877, 0.32613695, 0.31344423],\n",
       "       [0.35756072, 0.38248754, 0.2599517 ]], dtype=float32)"
      ]
     },
     "execution_count": 59,
     "metadata": {},
     "output_type": "execute_result"
    }
   ],
   "source": [
    "classes = model.predict(X_test)\n",
    "\n",
    "classes"
   ]
  },
  {
   "cell_type": "markdown",
   "metadata": {},
   "source": [
    "We want to say what is the predicted class, so we pick just the largest probability for each result"
   ]
  },
  {
   "cell_type": "code",
   "execution_count": 60,
   "metadata": {},
   "outputs": [
    {
     "data": {
      "text/plain": [
       "array([0, 1, 1, 1, 0, 1, 1, 1, 1, 1, 0, 1, 0, 1, 1, 1, 1, 1, 0, 1, 1, 1,\n",
       "       1, 1, 1, 1, 1, 0, 0, 1, 1, 1, 1, 1, 0, 1, 0, 1, 0, 0, 1, 1, 1, 1,\n",
       "       0, 0, 0, 1, 1, 1, 1, 0, 0, 1, 1, 1, 1, 1, 1, 1, 1, 1, 1, 0, 1, 1,\n",
       "       1, 1, 1, 1, 0, 1, 1, 1, 0, 1, 1, 1, 1, 0, 1, 0, 1, 1, 1, 1, 1, 1,\n",
       "       0, 1, 2, 0, 2, 1, 0, 1, 1, 1, 1, 1, 1, 1, 1, 1, 1, 1, 1, 1, 0, 1,\n",
       "       0, 1, 0, 0, 0, 1, 0, 1, 1, 1, 2, 1, 0, 1, 1, 0, 0, 0, 0, 1, 0, 0,\n",
       "       0, 1, 1, 1, 0, 0, 1, 1, 1, 1, 1, 1, 0, 1, 1, 1, 0, 0, 1, 1, 0, 1,\n",
       "       1, 1, 0, 1, 1, 1, 1, 1, 1, 1, 0, 1, 0, 0, 0, 1, 0, 1, 1, 1, 1, 1,\n",
       "       1, 1, 1, 1, 0, 0, 1, 1, 0, 1, 1, 1, 1, 0, 1, 1, 0, 1, 1, 1, 1, 1,\n",
       "       1, 1, 1, 0, 1, 1, 1, 1, 1, 1, 0, 1, 1, 1, 1, 0, 1, 0, 1, 1, 1, 1,\n",
       "       0, 1, 1, 1, 0, 1, 1, 1, 1, 1, 1, 1, 1, 1, 1, 1, 1, 1, 1, 0, 1, 0,\n",
       "       1, 1, 1, 1, 0, 0, 1, 0, 1, 1, 1, 1, 1, 0, 1, 1, 1, 1, 1, 1, 1, 0,\n",
       "       2, 0, 1, 0, 0, 1, 1, 1, 1, 0, 1, 0, 1, 1, 1, 0, 1, 1, 1, 1, 0, 1,\n",
       "       1, 1, 1, 1, 1, 1, 0, 1, 0, 1, 1, 1, 0, 1, 1, 1, 0, 0, 1, 1, 1, 0,\n",
       "       0, 1, 1, 1, 1, 1, 1, 0, 0, 1, 1, 1, 1, 1, 0, 0, 0, 1, 1, 0, 0, 1,\n",
       "       0, 1, 1, 0, 0, 1, 1, 1, 1, 1, 1, 1, 1, 1, 1, 0, 1, 0, 1, 1, 1, 0,\n",
       "       1, 1, 1, 1, 0, 1, 0, 1])"
      ]
     },
     "execution_count": 60,
     "metadata": {},
     "output_type": "execute_result"
    }
   ],
   "source": [
    "predictions = np.argmax(classes, axis=1)\n",
    "\n",
    "predictions"
   ]
  },
  {
   "cell_type": "markdown",
   "metadata": {},
   "source": [
    "Finally, we can see how accurate our model was by seeing if the predicted classes match the actual labels. Note that this is calculated differently from how the loss is calculated."
   ]
  },
  {
   "cell_type": "code",
   "execution_count": 63,
   "metadata": {},
   "outputs": [
    {
     "data": {
      "text/plain": [
       "array([0.56388889])"
      ]
     },
     "execution_count": 63,
     "metadata": {},
     "output_type": "execute_result"
    }
   ],
   "source": [
    "np.sum(predictions  == y_test) / predictions.shape"
   ]
  },
  {
   "cell_type": "markdown",
   "metadata": {},
   "source": [
    "## Saving for Later"
   ]
  },
  {
   "cell_type": "code",
   "execution_count": null,
   "metadata": {},
   "outputs": [],
   "source": [
    "model.save(\"my_model.h5\")"
   ]
  },
  {
   "cell_type": "code",
   "execution_count": null,
   "metadata": {},
   "outputs": [],
   "source": [
    "loaded_model = keras.models.load_model(\"my_model.h5\")"
   ]
  },
  {
   "cell_type": "markdown",
   "metadata": {},
   "source": [
    "## Appendix: More on Tensorflow Vs. Keras"
   ]
  },
  {
   "cell_type": "markdown",
   "metadata": {},
   "source": [
    "### Let's start with tensors"
   ]
  },
  {
   "cell_type": "markdown",
   "metadata": {},
   "source": [
    "Tensors are multidimensional matrices.\n",
    "\n",
    "![tensor](img/tensors.png)"
   ]
  },
  {
   "cell_type": "markdown",
   "metadata": {},
   "source": [
    "### TensorFlow manages the flow of matrix math"
   ]
  },
  {
   "cell_type": "markdown",
   "metadata": {},
   "source": [
    "That makes neural network processing possible.\n",
    "\n",
    "![cat](img/cat-tensors.gif)\n",
    "\n",
    "For our numbers dataset, our tensors from the `sklearn` dataset were originally tensors of the shape 8x8, i.e. 64-bit pictures. Remember, that was with black and white images.\n",
    "\n",
    "For image processing, we are often dealing with color."
   ]
  },
  {
   "cell_type": "code",
   "execution_count": null,
   "metadata": {},
   "outputs": [],
   "source": [
    "image = load_sample_images()['images'][0]\n",
    "\n",
    "imgplot = plt.imshow(image)"
   ]
  },
  {
   "cell_type": "code",
   "execution_count": null,
   "metadata": {},
   "outputs": [],
   "source": [
    "image.shape"
   ]
  },
  {
   "cell_type": "markdown",
   "metadata": {},
   "source": [
    "What do the dimensions of our image above represent?\n",
    "\n",
    "Tensors with higher numbers of dimensions have a higher **rank**.\n",
    "\n",
    "A matrix with rows and columns only, like the black and white numbers, has **rank 2**.\n",
    "\n",
    "A matrix with a third dimension, like the color pictures above, has **rank 3**.\n",
    "\n",
    "When we flatten an image by stacking the rows in a column, we are decreasing the rank. "
   ]
  },
  {
   "cell_type": "code",
   "execution_count": null,
   "metadata": {},
   "outputs": [],
   "source": [
    "flat_image = image.reshape(-1, 1)\n",
    "\n",
    "flat_image.shape"
   ]
  },
  {
   "cell_type": "code",
   "execution_count": null,
   "metadata": {},
   "outputs": [],
   "source": [
    "427*640*3"
   ]
  },
  {
   "cell_type": "markdown",
   "metadata": {},
   "source": [
    "## TensorFlow has more levers and buttons, but Keras is more user-friendly"
   ]
  },
  {
   "cell_type": "markdown",
   "metadata": {},
   "source": [
    "Coding directly in **Tensorflow** allows you to tweak more parameters to optimize performance. The **Keras** wrapper makes the code more accessible for developers prototyping models.\n",
    "\n",
    "![levers](img/levers.jpeg)"
   ]
  },
  {
   "cell_type": "markdown",
   "metadata": {},
   "source": [
    "### Keras, an API with an intentional UX"
   ]
  },
  {
   "cell_type": "markdown",
   "metadata": {},
   "source": [
    "- Deliberately design end-to-end user workflows\n",
    "- Reduce cognitive load for your users\n",
    "- Provide helpful feedback to your users\n",
    "\n",
    "[full article here](https://blog.keras.io/user-experience-design-for-apis.html)<br>\n",
    "[full list of why to use Keras](https://keras.io/why-use-keras/)"
   ]
  },
  {
   "cell_type": "markdown",
   "metadata": {},
   "source": [
    "### A few comparisons"
   ]
  },
  {
   "cell_type": "markdown",
   "metadata": {},
   "source": [
    "While you **can leverage both**, here are a few comparisons.\n",
    "\n",
    "| Comparison | Keras | Tensorflow|\n",
    "|------------|-------|-----------|\n",
    "| **Level of API** | high-level API | High and low-level APIs |\n",
    "| **Speed** |  can *seem* slower |  is a bit faster |\n",
    "| **Language architecture** | simple architecture, more readable and concise | straight tensorflow is a bit more complex |\n",
    "| **Debugging** | less frequent need to debug | difficult to debug |\n",
    "| **Datasets** | usually used for small datasets | high performance models and large datasets that require fast execution|\n",
    "\n",
    "This is also a _**non-issue**_ - as you can leverage `tensorflow` commands within `keras` and vice versa. If Keras ever seems slower, it's because the developer's time is more expensive than the GPUs'. Keras is designed with the developer in mind. \n",
    "\n",
    "[reference link](https://www.edureka.co/blog/keras-vs-tensorflow-vs-pytorch/)"
   ]
  },
  {
   "cell_type": "code",
   "execution_count": null,
   "metadata": {},
   "outputs": [],
   "source": []
  },
  {
   "cell_type": "markdown",
   "metadata": {},
   "source": [
    "# ♫ Better, Faster, Stronger ♫"
   ]
  },
  {
   "cell_type": "markdown",
   "metadata": {},
   "source": [
    "We can optimize our model to run faster and better!"
   ]
  },
  {
   "cell_type": "markdown",
   "metadata": {},
   "source": [
    "Sometimes this optimization feels like black magic over a science...\n",
    "\n",
    "![https://xkcd.com/1838/](https://imgs.xkcd.com/comics/machine_learning.png)"
   ]
  },
  {
   "cell_type": "markdown",
   "metadata": {},
   "source": [
    "## Some useful resources on optimization"
   ]
  },
  {
   "cell_type": "markdown",
   "metadata": {},
   "source": [
    "- Keras documentation & discussion: https://keras.io/optimizers/\n",
    "- Excellent blog post on optimizations: http://ruder.io/optimizing-gradient-descent/index.html#gradientdescentoptimizationalgorithms"
   ]
  },
  {
   "cell_type": "markdown",
   "metadata": {},
   "source": [
    "## A Need for Optimization: Vanishing Gradient Problem"
   ]
  },
  {
   "cell_type": "markdown",
   "metadata": {},
   "source": [
    "When our gradients are too small we can run into a few issues when training our model (adjusting weights and biases):\n",
    "- Slow training\n",
    "- Local minimum problem "
   ]
  },
  {
   "cell_type": "markdown",
   "metadata": {},
   "source": [
    "## Getting Stuck in Rut"
   ]
  },
  {
   "cell_type": "markdown",
   "metadata": {},
   "source": [
    "### Random Starts"
   ]
  },
  {
   "cell_type": "markdown",
   "metadata": {},
   "source": [
    "To avoid local minimums, what if we just randomly initialize ourselves somewhere on the cost function?"
   ]
  },
  {
   "cell_type": "markdown",
   "metadata": {},
   "source": [
    "We'll have to run the same model multiple times, but we start off with different weights and can help avoid falling into a local minimum"
   ]
  },
  {
   "cell_type": "markdown",
   "metadata": {},
   "source": [
    "### Momentum"
   ]
  },
  {
   "cell_type": "markdown",
   "metadata": {},
   "source": [
    "Recall gradient descent is analogous to finding the lowest point of the cost function ($J$) by adjusting the weights $W$ by the gradient of the cost function (multiplied by the learning factor)\n",
    "\n",
    "$$ W \\leftarrow W - \\alpha \\nabla J(W) $$"
   ]
  },
  {
   "cell_type": "markdown",
   "metadata": {},
   "source": [
    "![](img/cartoon_descender.png)"
   ]
  },
  {
   "cell_type": "markdown",
   "metadata": {},
   "source": [
    "But sometimes we can get \"trapped\" in a **local minimum**, a spot that is low compared to the nearby area but not the lowest point overall. Think of a ball rolling down the hill getting stuck at a plateau or slight incline."
   ]
  },
  {
   "cell_type": "markdown",
   "metadata": {},
   "source": [
    "#### Solution?  Give it some speed 😎"
   ]
  },
  {
   "cell_type": "markdown",
   "metadata": {},
   "source": [
    "We can \"power\" over the hill with **momentum**; the gradient term of our weights update will be our _acceleration_:\n",
    "\n",
    "$$ V_m \\leftarrow \\beta V_m - \\alpha \\nabla J(W) $$\n",
    "$$ W \\leftarrow W + V_m $$\n",
    "\n",
    "where $\\beta$ is our momentum hyperparameter (usually set to about 0.9)\n",
    "\n",
    "In addition to going up the hill, it also can speed up gradient descent! Note that we can also suffer from oscillating around the minimum before settling."
   ]
  },
  {
   "cell_type": "markdown",
   "metadata": {},
   "source": [
    "#### Nesterov Momentum"
   ]
  },
  {
   "cell_type": "markdown",
   "metadata": {},
   "source": [
    "One solution to optimize further is using the Nesterov momentum optimization (also referenced as NAG for \"Nesterov Accelerated Gradient\"). This basically does momentum like before but considers the gradient ahead of where it actually is.\n",
    "\n",
    "$$ V_m \\leftarrow \\beta V_m - \\alpha \\nabla J(W+\\beta V_m) $$\n",
    "$$ W \\leftarrow W + V_m $$"
   ]
  },
  {
   "cell_type": "markdown",
   "metadata": {},
   "source": [
    "##### Code Example"
   ]
  },
  {
   "cell_type": "markdown",
   "metadata": {},
   "source": [
    "```python\n",
    "import keras\n",
    "\n",
    "sgd_optimizer = keras.optimizers.SGD(momentum=0.9, nesterov=True)\n",
    "\n",
    "model.compile(optimizer=sgd_optimizer)\n",
    "```"
   ]
  },
  {
   "cell_type": "markdown",
   "metadata": {},
   "source": [
    "## Batch Gradient Descent"
   ]
  },
  {
   "cell_type": "markdown",
   "metadata": {},
   "source": [
    "The gradient is calculated across all values.  We can find the direction of the gradient, and proceed directly towards the minimum.\n",
    "\n",
    "The weights are updated with regard to the cost at the **end of an epoch** after all training elements have passed through."
   ]
  },
  {
   "cell_type": "markdown",
   "metadata": {},
   "source": [
    "## Normalization (Batch Normalization)"
   ]
  },
  {
   "cell_type": "markdown",
   "metadata": {},
   "source": [
    "> https://keras.io/layers/normalization/"
   ]
  },
  {
   "cell_type": "markdown",
   "metadata": {},
   "source": [
    "This allows speedier training so no one feature will overpower the direction down the hill\n",
    "\n",
    "Note if you use something like batch normalization, training speed can slow but converging to the minimal cost will tend to happen sooner"
   ]
  },
  {
   "cell_type": "markdown",
   "metadata": {},
   "source": [
    "## Stochastic Gradient Descent"
   ]
  },
  {
   "cell_type": "markdown",
   "metadata": {},
   "source": [
    "SGD updates the weights after each training **example**. SGD requires fewer epochs to achieve quality coefficients. This speeds up gradient descent [significantly](https://machinelearningmastery.com/gradient-descent-for-machine-learning/)."
   ]
  },
  {
   "cell_type": "markdown",
   "metadata": {},
   "source": [
    "Instead of taking a long time through the whole process with dataset (careful step), go through part of the dataset quicker (quick, \"drunken\" steps). Note that this means it will also take less space in memory.\n",
    "\n",
    "\"Stochastic\" == Random"
   ]
  },
  {
   "cell_type": "markdown",
   "metadata": {},
   "source": [
    "![](img/sgd_visualization.png)\n",
    "\n",
    "> Note: You likely will want to combine this momentum and other tweaks like learning rate decay"
   ]
  },
  {
   "cell_type": "markdown",
   "metadata": {},
   "source": [
    "### Steps"
   ]
  },
  {
   "cell_type": "markdown",
   "metadata": {},
   "source": [
    "1. Take a random set (batch)\n",
    "2. Feed forward batch through model\n",
    "3. Calculate error (loss) from batch\n",
    "4. Adjust weights via backpropogagtion\n",
    "5. Repeat with all points/batches"
   ]
  },
  {
   "cell_type": "markdown",
   "metadata": {},
   "source": [
    "### Mini-Batch Gradient Descent"
   ]
  },
  {
   "cell_type": "markdown",
   "metadata": {},
   "source": [
    "In mini-batch, we pass a batch, calculate the gradient, update the params, then proceed to the next batch. It combines the advantages of batch and stochastic gradient descent: it is faster than SGD since the updates are not made with each point, and more computationally efficient than batch, since we don't have to hold all training examples in memory."
   ]
  },
  {
   "cell_type": "markdown",
   "metadata": {},
   "source": [
    "[Good comparison of types of Gradient Descent and batch size](https://machinelearningmastery.com/gentle-introduction-mini-batch-gradient-descent-configure-batch-size/)"
   ]
  },
  {
   "cell_type": "markdown",
   "metadata": {},
   "source": [
    "## Activation Functions"
   ]
  },
  {
   "cell_type": "markdown",
   "metadata": {},
   "source": [
    "> We can modify what activation we use to help with the gradient during backpropagation"
   ]
  },
  {
   "cell_type": "markdown",
   "metadata": {},
   "source": [
    "### Recall What an Activation Function Does"
   ]
  },
  {
   "cell_type": "markdown",
   "metadata": {},
   "source": [
    "![](img/relu_bouncer.png)"
   ]
  },
  {
   "cell_type": "markdown",
   "metadata": {},
   "source": [
    "### Using the Proper Activation"
   ]
  },
  {
   "cell_type": "markdown",
   "metadata": {},
   "source": [
    "A simple way to change the gradient, is change the activation function that produces different gradients"
   ]
  },
  {
   "cell_type": "markdown",
   "metadata": {},
   "source": [
    "![](img/activations_ranked.png)"
   ]
  },
  {
   "cell_type": "markdown",
   "metadata": {},
   "source": [
    "In general:\n",
    "\n",
    "* Sigmoid should almost never be used anymore for an activation \n",
    "* ReLU is a good balance of speed and performance (most systems have optimizations)\n",
    "* You may find other variants like leaky ReLU to give better results"
   ]
  },
  {
   "cell_type": "markdown",
   "metadata": {},
   "source": [
    "## Aside: Optimizers"
   ]
  },
  {
   "cell_type": "markdown",
   "metadata": {},
   "source": [
    "Different types of gradient descent update the parameters at different times in different ways.\n",
    "\n",
    "> https://keras.io/optimizers/"
   ]
  },
  {
   "cell_type": "markdown",
   "metadata": {},
   "source": [
    "One of the levers we can tweak are the optimizers which control how the weights and biases are updated.\n",
    "\n",
    "For stochastic gradient descent, the weights are updated with a **constant** learning rate (alpha) after every record.  If we specify a batch size, the constant learning rate is multiplied by the gradient across the batch. \n",
    "\n",
    "Other optimizers, such as **Adam** (\"Adaptive Moment Estimation\"), update the weights in different ways. For Adam,\n",
    "> A learning rate is maintained for each network weight (parameter) and separately adapted as learning unfolds. See [here](https://machinelearningmastery.com/adam-optimization-algorithm-for-deep-learning/)."
   ]
  },
  {
   "cell_type": "markdown",
   "metadata": {},
   "source": [
    "### AdaGrad & RMSProp"
   ]
  },
  {
   "cell_type": "markdown",
   "metadata": {},
   "source": [
    "> Quick aside, typically we don't use AdaGrad as it will tend to stop too early in complex problems (neural networks)"
   ]
  },
  {
   "cell_type": "markdown",
   "metadata": {},
   "source": [
    "One problem with gradient descent is we might take too many big jumps on the steep section. **AdaGrad** and the improvement from **RMSProp** allows us to be more careful when it's steep. AdaGrad accumulates avearage gradients from all iterations while RMSProp will decay the older iterations (keeping mostly the most recent iterations)."
   ]
  },
  {
   "cell_type": "markdown",
   "metadata": {},
   "source": [
    "![](img/adagrad_plot.png)"
   ]
  },
  {
   "cell_type": "markdown",
   "metadata": {},
   "source": [
    "```python\n",
    "import keras\n",
    "# Typically rho=0.9 is a good value\n",
    "optimizer = keras.optimizers.RMSprop(lr=0.001, rho=0.9)\n",
    "\n",
    "model.compile(optimizer=optimizer)\n",
    "```"
   ]
  },
  {
   "cell_type": "markdown",
   "metadata": {},
   "source": [
    "### Adam (Adaptive Moment Estimation) Optimization and Other Variants"
   ]
  },
  {
   "cell_type": "markdown",
   "metadata": {},
   "source": [
    "> Combines momentum and RMSProp strategy"
   ]
  },
  {
   "cell_type": "markdown",
   "metadata": {},
   "source": [
    "```python\n",
    "# Typical values for Adam\n",
    "optimizer = keras.optimizers.Adam(lr=0.001, beta_1=0.9, beta_2=0.999)\n",
    "\n",
    "model.compile(optimizer=optimizer)\n",
    "```"
   ]
  },
  {
   "cell_type": "markdown",
   "metadata": {},
   "source": [
    "**Nadam**: Basically combines Adam and Nesterov"
   ]
  },
  {
   "cell_type": "markdown",
   "metadata": {},
   "source": [
    "```python\n",
    "# Typical values for Nadam\n",
    "optimizer = keras.optimizers.Nadam(lr=0.001, beta_1=0.9, beta_2=0.999)\n",
    "\n",
    "model.compile(optimizer=optimizer)\n",
    "```"
   ]
  },
  {
   "cell_type": "markdown",
   "metadata": {},
   "source": [
    "**Note**: Sometimes Adam just isn't good for a dataset; a good alternative is just using plain old momentum with Nesterov"
   ]
  }
 ],
 "metadata": {
  "kernelspec": {
   "display_name": "Python 3",
   "language": "python",
   "name": "python3"
  },
  "language_info": {
   "codemirror_mode": {
    "name": "ipython",
    "version": 3
   },
   "file_extension": ".py",
   "mimetype": "text/x-python",
   "name": "python",
   "nbconvert_exporter": "python",
   "pygments_lexer": "ipython3",
   "version": "3.8.5"
  },
  "toc": {
   "base_numbering": 1,
   "nav_menu": {},
   "number_sections": true,
   "sideBar": true,
   "skip_h1_title": false,
   "title_cell": "Table of Contents",
   "title_sidebar": "Contents",
   "toc_cell": true,
   "toc_position": {
    "height": "calc(100% - 180px)",
    "left": "10px",
    "top": "150px",
    "width": "260.391px"
   },
   "toc_section_display": true,
   "toc_window_display": true
  }
 },
 "nbformat": 4,
 "nbformat_minor": 4
}
